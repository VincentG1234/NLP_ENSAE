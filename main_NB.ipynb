{
 "cells": [
  {
   "cell_type": "code",
   "execution_count": 10,
   "metadata": {},
   "outputs": [],
   "source": [
    "from transformers import Trainer\n",
    "import torch\n",
    "import torch.nn.functional as F\n",
    "\n",
    "class DistillationSeq2SeqTrainer(Trainer):\n",
    "    def __init__(self, teacher_model=None, distil_weight=0.5, temperature=2.0, *args, **kwargs):\n",
    "        super().__init__(*args, **kwargs)\n",
    "        self.teacher_model = teacher_model\n",
    "        self.distil_weight = distil_weight\n",
    "        self.temperature = temperature\n",
    "        self.teacher_model.eval()\n",
    "        self.teacher_model.to(self.model.device)\n",
    "\n",
    "    def compute_loss(self, model, inputs, return_outputs=False, **kwargs):\n",
    "        labels = inputs.get(\"labels\")\n",
    "        inputs_no_labels = {k: v for k, v in inputs.items() if k != \"labels\"}\n",
    "\n",
    "        student_outputs = model(**inputs)\n",
    "        student_logits = student_outputs.logits\n",
    "\n",
    "        with torch.no_grad():\n",
    "            teacher_outputs = self.teacher_model(**inputs_no_labels)\n",
    "            teacher_logits = teacher_outputs.logits\n",
    "\n",
    "        loss_ce = F.cross_entropy(\n",
    "            student_logits.view(-1, student_logits.size(-1)),\n",
    "            labels.view(-1),\n",
    "            ignore_index=self.tokenizer.pad_token_id\n",
    "        )\n",
    "\n",
    "        student_log_probs = F.log_softmax(student_logits / self.temperature, dim=-1)\n",
    "        teacher_probs = F.softmax(teacher_logits / self.temperature, dim=-1)\n",
    "\n",
    "        loss_kl = F.kl_div(\n",
    "            student_log_probs, teacher_probs,\n",
    "            reduction=\"batchmean\",\n",
    "            log_target=False\n",
    "        ) * (self.temperature ** 2)\n",
    "\n",
    "        loss = (1 - self.distil_weight) * loss_ce + self.distil_weight * loss_kl\n",
    "\n",
    "        # Wandb logging\n",
    "        if self.state.global_step % 10 == 0 and self.args.report_to and \"wandb\" in self.args.report_to:\n",
    "            wandb.log({\n",
    "                \"loss\": loss.item(),\n",
    "                \"loss_ce\": loss_ce.item(),\n",
    "                \"loss_kl\": loss_kl.item(),\n",
    "                \"step\": self.state.global_step\n",
    "            })\n",
    "\n",
    "        return (loss, student_outputs) if return_outputs else loss\n"
   ]
  },
  {
   "cell_type": "code",
   "execution_count": 20,
   "metadata": {},
   "outputs": [
    {
     "name": "stderr",
     "output_type": "stream",
     "text": [
      "Map: 100%|██████████| 10/10 [00:00<00:00, 87.01 examples/s]\n",
      "Map: 100%|██████████| 3/3 [00:00<00:00, 59.87 examples/s]\n"
     ]
    }
   ],
   "source": [
    "from transformers import (\n",
    "    BartTokenizer,\n",
    "    BartForConditionalGeneration,\n",
    "    BartConfig,\n",
    "    Seq2SeqTrainer,\n",
    "    Seq2SeqTrainingArguments,\n",
    "    DataCollatorForSeq2Seq\n",
    ")\n",
    "from datasets import load_dataset\n",
    "import os\n",
    "\n",
    "# 1. Charger le tokenizer (on garde celui de bart-large)\n",
    "tokenizer = BartTokenizer.from_pretrained(\"facebook/bart-large-cnn\")\n",
    "vocab_size = tokenizer.vocab_size  # = 50265\n",
    "\n",
    "# 2. Créer une architecture MiniBART\n",
    "mini_config = BartConfig(\n",
    "    d_model=256,\n",
    "    encoder_layers=3,\n",
    "    decoder_layers=3,\n",
    "    encoder_attention_heads=4,\n",
    "    decoder_attention_heads=4,\n",
    "    encoder_ffn_dim=1024,\n",
    "    decoder_ffn_dim=1024,\n",
    "    vocab_size=tokenizer.vocab_size -1,\n",
    "    max_position_embeddings=1024,\n",
    "    pad_token_id=tokenizer.pad_token_id,\n",
    "    bos_token_id=tokenizer.bos_token_id,\n",
    "    eos_token_id=tokenizer.eos_token_id,\n",
    "    is_encoder_decoder=True\n",
    ")\n",
    "\n",
    "student_model = BartForConditionalGeneration(mini_config)\n",
    "\n",
    "# 3. Charger les données de summarization (CNN/DM)\n",
    "dataset = load_dataset(\"cnn_dailymail\", \"3.0.0\")\n",
    "train_data = dataset[\"train\"].select(range(10))  # pour test rapide\n",
    "val_data = dataset[\"validation\"].select(range(3))\n",
    "\n",
    "# 4. Tokenization\n",
    "def preprocess(examples):\n",
    "    inputs = tokenizer(examples[\"article\"], max_length=512, truncation=True, padding=\"max_length\")\n",
    "    targets = tokenizer(examples[\"highlights\"], max_length=128, truncation=True, padding=\"max_length\")\n",
    "    inputs[\"labels\"] = targets[\"input_ids\"]\n",
    "    return inputs\n",
    "\n",
    "tokenized_train = train_data.map(preprocess, batched=True)\n",
    "tokenized_val = val_data.map(preprocess, batched=True)"
   ]
  },
  {
   "cell_type": "code",
   "execution_count": 21,
   "metadata": {},
   "outputs": [],
   "source": [
    "training_args = Seq2SeqTrainingArguments(\n",
    "    output_dir=\"./mini-bart-distilled\",\n",
    "    evaluation_strategy=\"epoch\",\n",
    "    learning_rate=5e-4,\n",
    "    per_device_train_batch_size=8,\n",
    "    per_device_eval_batch_size=8,\n",
    "    weight_decay=0.01,\n",
    "    save_total_limit=2,\n",
    "    num_train_epochs=2,\n",
    "    predict_with_generate=True,\n",
    "    logging_dir=\"./logs\",\n",
    "    fp16=torch.cuda.is_available()\n",
    ")"
   ]
  },
  {
   "cell_type": "code",
   "execution_count": 22,
   "metadata": {},
   "outputs": [],
   "source": [
    "data_collator = DataCollatorForSeq2Seq(tokenizer, model=student_model)\n",
    "teacher_model = BartForConditionalGeneration.from_pretrained(\"facebook/bart-large-cnn\")"
   ]
  },
  {
   "cell_type": "code",
   "execution_count": 23,
   "metadata": {},
   "outputs": [
    {
     "name": "stderr",
     "output_type": "stream",
     "text": [
      "/tmp/ipykernel_7124/3305408471.py:7: FutureWarning: `tokenizer` is deprecated and will be removed in version 5.0.0 for `DistillationSeq2SeqTrainer.__init__`. Use `processing_class` instead.\n",
      "  super().__init__(*args, **kwargs)\n",
      "Trainer.tokenizer is now deprecated. You should use Trainer.processing_class instead.\n"
     ]
    },
    {
     "data": {
      "text/html": [
       "\n",
       "    <div>\n",
       "      \n",
       "      <progress value='4' max='4' style='width:300px; height:20px; vertical-align: middle;'></progress>\n",
       "      [4/4 00:11, Epoch 2/2]\n",
       "    </div>\n",
       "    <table border=\"1\" class=\"dataframe\">\n",
       "  <thead>\n",
       " <tr style=\"text-align: left;\">\n",
       "      <th>Epoch</th>\n",
       "      <th>Training Loss</th>\n",
       "      <th>Validation Loss</th>\n",
       "    </tr>\n",
       "  </thead>\n",
       "  <tbody>\n",
       "    <tr>\n",
       "      <td>1</td>\n",
       "      <td>No log</td>\n",
       "      <td>143.057709</td>\n",
       "    </tr>\n",
       "    <tr>\n",
       "      <td>2</td>\n",
       "      <td>No log</td>\n",
       "      <td>139.622131</td>\n",
       "    </tr>\n",
       "  </tbody>\n",
       "</table><p>"
      ],
      "text/plain": [
       "<IPython.core.display.HTML object>"
      ]
     },
     "metadata": {},
     "output_type": "display_data"
    },
    {
     "name": "stderr",
     "output_type": "stream",
     "text": [
      "Trainer.tokenizer is now deprecated. You should use Trainer.processing_class instead.\n",
      "Trainer.tokenizer is now deprecated. You should use Trainer.processing_class instead.\n",
      "Trainer.tokenizer is now deprecated. You should use Trainer.processing_class instead.\n",
      "Trainer.tokenizer is now deprecated. You should use Trainer.processing_class instead.\n",
      "Trainer.tokenizer is now deprecated. You should use Trainer.processing_class instead.\n"
     ]
    },
    {
     "data": {
      "text/plain": [
       "TrainOutput(global_step=4, training_loss=134.80177307128906, metrics={'train_runtime': 16.0448, 'train_samples_per_second': 1.247, 'train_steps_per_second': 0.249, 'total_flos': 339801538560.0, 'train_loss': 134.80177307128906, 'epoch': 2.0})"
      ]
     },
     "execution_count": 23,
     "metadata": {},
     "output_type": "execute_result"
    }
   ],
   "source": [
    "trainer = DistillationSeq2SeqTrainer(\n",
    "    model=student_model,\n",
    "    args=training_args,\n",
    "    train_dataset=tokenized_train,\n",
    "    eval_dataset=tokenized_val,\n",
    "    tokenizer=tokenizer,\n",
    "    data_collator=data_collator,\n",
    "    teacher_model=teacher_model,  # BART-LARGE\n",
    "    distil_weight=0.5,\n",
    "    temperature=2.0\n",
    ")\n",
    "trainer.train()\n"
   ]
  },
  {
   "cell_type": "code",
   "execution_count": 15,
   "metadata": {},
   "outputs": [
    {
     "name": "stdout",
     "output_type": "stream",
     "text": [
      "student vocab size: 50265\n",
      "teacher vocab size: 50264\n"
     ]
    }
   ],
   "source": [
    "print(\"student vocab size:\", student_model.config.vocab_size)\n",
    "print(\"teacher vocab size:\", teacher_model.config.vocab_size)"
   ]
  }
 ],
 "metadata": {
  "kernelspec": {
   "display_name": "base",
   "language": "python",
   "name": "python3"
  },
  "language_info": {
   "codemirror_mode": {
    "name": "ipython",
    "version": 3
   },
   "file_extension": ".py",
   "mimetype": "text/x-python",
   "name": "python",
   "nbconvert_exporter": "python",
   "pygments_lexer": "ipython3",
   "version": "3.12.9"
  }
 },
 "nbformat": 4,
 "nbformat_minor": 2
}
